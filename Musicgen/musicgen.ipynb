{
 "cells": [
  {
   "cell_type": "code",
   "execution_count": 1,
   "metadata": {},
   "outputs": [
    {
     "name": "stderr",
     "output_type": "stream",
     "text": [
      "INFO:numexpr.utils:NumExpr defaulting to 4 threads.\n"
     ]
    },
    {
     "ename": "PermissionError",
     "evalue": "[WinError 32] The process cannot access the file because it is being used by another process: 'C:\\\\Users\\\\ADMINI~1\\\\AppData\\\\Local\\\\Temp\\\\tmpah23q55v'",
     "output_type": "error",
     "traceback": [
      "\u001b[1;31m---------------------------------------------------------------------------\u001b[0m",
      "\u001b[1;31mPermissionError\u001b[0m                           Traceback (most recent call last)",
      "File \u001b[1;32m~\\anaconda3\\lib\\shutil.py:816\u001b[0m, in \u001b[0;36mmove\u001b[1;34m(src, dst, copy_function)\u001b[0m\n\u001b[0;32m    815\u001b[0m \u001b[39mtry\u001b[39;00m:\n\u001b[1;32m--> 816\u001b[0m     os\u001b[39m.\u001b[39;49mrename(src, real_dst)\n\u001b[0;32m    817\u001b[0m \u001b[39mexcept\u001b[39;00m \u001b[39mOSError\u001b[39;00m:\n",
      "\u001b[1;31mPermissionError\u001b[0m: [WinError 32] The process cannot access the file because it is being used by another process: 'C:\\\\Users\\\\ADMINI~1\\\\AppData\\\\Local\\\\Temp\\\\tmpah23q55v' -> 'C:\\\\Users\\\\Administrator/.baseten_config'",
      "\nDuring handling of the above exception, another exception occurred:\n",
      "\u001b[1;31mPermissionError\u001b[0m                           Traceback (most recent call last)",
      "Cell \u001b[1;32mIn[1], line 1\u001b[0m\n\u001b[1;32m----> 1\u001b[0m \u001b[39mimport\u001b[39;00m \u001b[39mbaseten\u001b[39;00m\n\u001b[0;32m      2\u001b[0m model \u001b[39m=\u001b[39m baseten\u001b[39m.\u001b[39mdeployed_model_version_id(\u001b[39m'\u001b[39m\u001b[39m32pv8vq\u001b[39m\u001b[39m'\u001b[39m)\n\u001b[0;32m      3\u001b[0m model\u001b[39m.\u001b[39mpredict({\u001b[39m'\u001b[39m\u001b[39mprompts\u001b[39m\u001b[39m'\u001b[39m: [\u001b[39m'\u001b[39m\u001b[39mrap\u001b[39m\u001b[39m'\u001b[39m, \u001b[39m'\u001b[39m\u001b[39mEDM\u001b[39m\u001b[39m'\u001b[39m, \u001b[39m'\u001b[39m\u001b[39mindie\u001b[39m\u001b[39m'\u001b[39m], \u001b[39m'\u001b[39m\u001b[39mduration\u001b[39m\u001b[39m'\u001b[39m: \u001b[39m4\u001b[39m})\n",
      "File \u001b[1;32m~\\anaconda3\\lib\\site-packages\\baseten\\__init__.py:41\u001b[0m\n\u001b[0;32m     39\u001b[0m \u001b[39mif\u001b[39;00m settings\u001b[39m.\u001b[39mDEBUG:\n\u001b[0;32m     40\u001b[0m     setup_logger(\u001b[39m\"\u001b[39m\u001b[39mbaseten\u001b[39m\u001b[39m\"\u001b[39m, logging\u001b[39m.\u001b[39mDEBUG)\n\u001b[1;32m---> 41\u001b[0m logger\u001b[39m.\u001b[39mdebug(\u001b[39mf\u001b[39m\u001b[39m\"\u001b[39m\u001b[39mStarting the client with the server URL set to \u001b[39m\u001b[39m{\u001b[39;00msettings\u001b[39m.\u001b[39mget_server_url()\u001b[39m}\u001b[39;00m\u001b[39m\"\u001b[39m)\n\u001b[0;32m     43\u001b[0m \u001b[39m# The Baseten model ID that either a) the user initialized baseten with, or b) was created when deploying a model.\u001b[39;00m\n\u001b[0;32m     44\u001b[0m working_model_id \u001b[39m=\u001b[39m \u001b[39mNone\u001b[39;00m\n",
      "File \u001b[1;32m~\\anaconda3\\lib\\site-packages\\baseten\\common\\settings.py:76\u001b[0m, in \u001b[0;36mget_server_url\u001b[1;34m()\u001b[0m\n\u001b[0;32m     75\u001b[0m \u001b[39mdef\u001b[39;00m \u001b[39mget_server_url\u001b[39m() \u001b[39m-\u001b[39m\u001b[39m>\u001b[39m \u001b[39mstr\u001b[39m:\n\u001b[1;32m---> 76\u001b[0m     config \u001b[39m=\u001b[39m read_config()\n\u001b[0;32m     77\u001b[0m     \u001b[39mtry\u001b[39;00m:\n\u001b[0;32m     78\u001b[0m         \u001b[39mreturn\u001b[39;00m config\u001b[39m.\u001b[39mget(\u001b[39m\"\u001b[39m\u001b[39mapi\u001b[39m\u001b[39m\"\u001b[39m, \u001b[39m\"\u001b[39m\u001b[39murl_base\u001b[39m\u001b[39m\"\u001b[39m)\n",
      "File \u001b[1;32m~\\anaconda3\\lib\\site-packages\\baseten\\common\\settings.py:57\u001b[0m, in \u001b[0;36mread_config\u001b[1;34m()\u001b[0m\n\u001b[0;32m     55\u001b[0m \u001b[39mdef\u001b[39;00m \u001b[39mread_config\u001b[39m():\n\u001b[0;32m     56\u001b[0m     \u001b[39mif\u001b[39;00m \u001b[39mnot\u001b[39;00m is_config_file_valid():\n\u001b[1;32m---> 57\u001b[0m         set_config_defaults()\n\u001b[0;32m     58\u001b[0m     config \u001b[39m=\u001b[39m configparser\u001b[39m.\u001b[39mConfigParser()\n\u001b[0;32m     59\u001b[0m     config\u001b[39m.\u001b[39mread(CONFIG_FILE_PATH)\n",
      "File \u001b[1;32m~\\anaconda3\\lib\\site-packages\\baseten\\common\\settings.py:50\u001b[0m, in \u001b[0;36mset_config_defaults\u001b[1;34m()\u001b[0m\n\u001b[0;32m     48\u001b[0m     config\u001b[39m.\u001b[39madd_section(\u001b[39m\"\u001b[39m\u001b[39mapi\u001b[39m\u001b[39m\"\u001b[39m)\n\u001b[0;32m     49\u001b[0m config\u001b[39m.\u001b[39mset(\u001b[39m\"\u001b[39m\u001b[39mapi\u001b[39m\u001b[39m\"\u001b[39m, \u001b[39m\"\u001b[39m\u001b[39murl_base\u001b[39m\u001b[39m\"\u001b[39m, \u001b[39m\"\u001b[39m\u001b[39mhttps://app.baseten.co\u001b[39m\u001b[39m\"\u001b[39m)\n\u001b[1;32m---> 50\u001b[0m _write_file(config, CONFIG_FILE_PATH)\n\u001b[0;32m     52\u001b[0m \u001b[39mreturn\u001b[39;00m config\n",
      "File \u001b[1;32m~\\anaconda3\\lib\\site-packages\\baseten\\common\\settings.py:30\u001b[0m, in \u001b[0;36m_write_file\u001b[1;34m(config, file_path)\u001b[0m\n\u001b[0;32m     28\u001b[0m \u001b[39mwith\u001b[39;00m \u001b[39mopen\u001b[39m(tmp_file\u001b[39m.\u001b[39mname, \u001b[39m\"\u001b[39m\u001b[39mw\u001b[39m\u001b[39m\"\u001b[39m) \u001b[39mas\u001b[39;00m tmp_file_handler:\n\u001b[0;32m     29\u001b[0m     config\u001b[39m.\u001b[39mwrite(tmp_file_handler)\n\u001b[1;32m---> 30\u001b[0m shutil\u001b[39m.\u001b[39;49mmove(tmp_file\u001b[39m.\u001b[39;49mname, file_path)\n",
      "File \u001b[1;32m~\\anaconda3\\lib\\shutil.py:837\u001b[0m, in \u001b[0;36mmove\u001b[1;34m(src, dst, copy_function)\u001b[0m\n\u001b[0;32m    835\u001b[0m     \u001b[39melse\u001b[39;00m:\n\u001b[0;32m    836\u001b[0m         copy_function(src, real_dst)\n\u001b[1;32m--> 837\u001b[0m         os\u001b[39m.\u001b[39;49munlink(src)\n\u001b[0;32m    838\u001b[0m \u001b[39mreturn\u001b[39;00m real_dst\n",
      "\u001b[1;31mPermissionError\u001b[0m: [WinError 32] The process cannot access the file because it is being used by another process: 'C:\\\\Users\\\\ADMINI~1\\\\AppData\\\\Local\\\\Temp\\\\tmpah23q55v'"
     ]
    }
   ],
   "source": [
    "import baseten\n",
    "model = baseten.deployed_model_version_id('32pv8vq')\n",
    "model.predict({'prompts': ['rap', 'EDM', 'indie'], 'duration': 4})"
   ]
  }
 ],
 "metadata": {
  "kernelspec": {
   "display_name": "Python 3 (ipykernel)",
   "language": "python",
   "name": "python3"
  },
  "language_info": {
   "codemirror_mode": {
    "name": "ipython",
    "version": 3
   },
   "file_extension": ".py",
   "mimetype": "text/x-python",
   "name": "python",
   "nbconvert_exporter": "python",
   "pygments_lexer": "ipython3",
   "version": "3.10.9"
  },
  "orig_nbformat": 4
 },
 "nbformat": 4,
 "nbformat_minor": 2
}
