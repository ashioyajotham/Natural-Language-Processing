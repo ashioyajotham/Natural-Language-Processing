{
 "cells": [
  {
   "cell_type": "code",
   "execution_count": 2,
   "metadata": {},
   "outputs": [],
   "source": [
    "import pprint\n",
    "import google.generativeai as palm"
   ]
  },
  {
   "cell_type": "code",
   "execution_count": 3,
   "metadata": {},
   "outputs": [
    {
     "name": "stdout",
     "output_type": "stream",
     "text": [
      "API Key is loaded successfully.\n"
     ]
    }
   ],
   "source": [
    "from dotenv import load_dotenv\n",
    "import os\n",
    "\n",
    "# Load the .env file\n",
    "load_dotenv()\n",
    "\n",
    "# Get the api_key\n",
    "API_KEY = os.getenv('API_KEY')\n",
    "\n",
    "# Check if api_key is loaded\n",
    "if API_KEY:\n",
    "    print(\"API Key is loaded successfully.\")\n",
    "else:\n",
    "    print(\"Failed to load api_key.\")"
   ]
  },
  {
   "cell_type": "code",
   "execution_count": 4,
   "metadata": {},
   "outputs": [],
   "source": [
    "palm.configure(api_key=API_KEY)"
   ]
  },
  {
   "attachments": {},
   "cell_type": "markdown",
   "metadata": {},
   "source": [
    "# Text Generation"
   ]
  },
  {
   "cell_type": "code",
   "execution_count": 5,
   "metadata": {},
   "outputs": [
    {
     "name": "stdout",
     "output_type": "stream",
     "text": [
      "Using model models/text-bison-001\n"
     ]
    }
   ],
   "source": [
    "models = [m for m in palm.list_models() if 'generateText' in m.supported_generation_methods]\n",
    "model = models[0].name\n",
    "print(f'Using model {model}')"
   ]
  },
  {
   "cell_type": "code",
   "execution_count": 6,
   "metadata": {},
   "outputs": [
    {
     "name": "stdout",
     "output_type": "stream",
     "text": [
      "whatever gives meaning to your life.\n"
     ]
    }
   ],
   "source": [
    "# Using the palm.generate_text method to generate text:\n",
    "prompt = 'The meaning of life is'\n",
    "completion = palm.generate_text(model=model, prompt=prompt, temperature=0.9, max_output_tokens=800)\n",
    "print(completion.result)"
   ]
  },
  {
   "cell_type": "code",
   "execution_count": 7,
   "metadata": {},
   "outputs": [
    {
     "name": "stdout",
     "output_type": "stream",
     "text": [
      "As I walk down the path in the forest, I hear a loud roar. I look up and see a dragon flying overhead. It is massive, with a long, serpentine body and a wingspan that stretches for miles. Its scales are a deep red, and its eyes are a fiery yellow. I know that I have to stop it, or it will destroy the kingdom.\n",
      "\n",
      "I draw my wand and cast a spell. A protective barrier forms around me, and the dragon's fire cannot harm me. I raise my wand again and cast another spell. This one summons a cloud of smoke that obscures the dragon's vision. The dragon roars in anger and tries to fly through the smoke, but it cannot see where it is going.\n",
      "\n",
      "I take advantage of the dragon's confusion and cast a final spell. This one causes the dragon to fall to the ground, stunned. I walk over to the dragon and cast a spell that binds its wings. The dragon is now helpless.\n",
      "\n",
      "I have defeated the dragon! I have saved the kingdom of Larion! The people of the kingdom are grateful, and they celebrate my victory. I am a hero!\n"
     ]
    }
   ],
   "source": [
    "prompt = \"\"\"\n",
    "You are a wizard living in the kingdom of Larion. You have a wand and a spellbook. You have been tasked with\n",
    "saving the kingdom from a dragon.\n",
    "\n",
    "You are walking down a path in the forest. You see a dragon flying overhead. You: \n",
    "\"\"\"\n",
    "completion = palm.generate_text(model=model, prompt=prompt, temperature=0.9, max_output_tokens=800)\n",
    "print(completion.result)"
   ]
  },
  {
   "cell_type": "code",
   "execution_count": 8,
   "metadata": {},
   "outputs": [
    {
     "name": "stdout",
     "output_type": "stream",
     "text": [
      "As the captain of the pirate ship, I raise my spyglass to my eye and scan the horizon. I spot a ship in the distance. It is a small vessel, and it appears to be sailing alone. I signal to my crew to prepare for battle.\n",
      "\n",
      "We quickly raise our sails and close the distance between our ships. As we approach, I can see that the other ship is a merchant vessel. It is laden with cargo, and it is clear that it is an easy target.\n",
      "\n",
      "I order my crew to board the merchant ship. We swarm over the sides of the ship, cutting down the crew and taking control of the vessel. Once we have secured the ship, I order my men to search for the treasure.\n",
      "\n",
      "We find the treasure hidden in a secret compartment in the captain's cabin. It is a large chest filled with gold coins, jewels, and other valuables. I smile as I survey my prize. This is a great haul!\n",
      "\n",
      "I order my men to load the treasure onto our ship. Then, we set sail for our home port. We will be celebrating tonight!\n"
     ]
    }
   ],
   "source": [
    "prompt = \"\"\"\n",
    "You are the captain of a pirate ship. You have a sword and a pistol. You have been tasked with\n",
    "finding treasure. You are sailing the seas. You see a ship on the horizon. You:\n",
    "\"\"\"\n",
    "\n",
    "completion = palm.generate_text(model=model, prompt=prompt, temperature=0.9, max_output_tokens=800)\n",
    "print(completion.result)"
   ]
  },
  {
   "cell_type": "code",
   "execution_count": 9,
   "metadata": {},
   "outputs": [
    {
     "name": "stdout",
     "output_type": "stream",
     "text": [
      "Chain-of-thought:\n",
      "The first train travels for 2 hours because 5:00 PM - 3:00 PM = 2 hours. So, the first train travels 2 * 60 = 120 miles. The second train travels for 1 hour because 5:00 PM - 4:00 PM = 1 hour. So, the second train travels 1 * 80 = 80 miles. Therefore, the trains are 120 + 80 = 200 miles apart at 5:00 PM.\n",
      "\n",
      "The answer should be 200\n"
     ]
    }
   ],
   "source": [
    "prompt = \"\"\"\n",
    "You are an expert at solving word problems. Solve the following word problem:\n",
    "\n",
    "A train leaves the station at 3:00 PM traveling 60 miles per hour. Another train leaves the same station at 4:00 PM traveling 80 miles per hour. How far apart are the trains at 5:00 PM?\n",
    "\n",
    "Think about it step by step, and show your work.\n",
    "\"\"\"\n",
    "\n",
    "completion = palm.generate_text(model=model, prompt=prompt, temperature=0.9, max_output_tokens=800)\n",
    "print(completion.result)"
   ]
  },
  {
   "cell_type": "code",
   "execution_count": null,
   "metadata": {},
   "outputs": [],
   "source": []
  },
  {
   "attachments": {},
   "cell_type": "markdown",
   "metadata": {},
   "source": [
    "## VertexAI"
   ]
  },
  {
   "cell_type": "code",
   "execution_count": 10,
   "metadata": {},
   "outputs": [],
   "source": [
    "import vertexai\n",
    "\n",
    "PROJECT_ID = \"\" #@param {type:\"string\"}\n",
    "vertexai.init(project=PROJECT_ID, location='us-central1')"
   ]
  },
  {
   "cell_type": "code",
   "execution_count": 11,
   "metadata": {},
   "outputs": [],
   "source": [
    "from vertexai.language_models import TextGenerationModel,\\\n",
    "                                    TextEmbeddingModel,\\\n",
    "                                        ChatModel,\\\n",
    "                                            InputOutputTextPair,\\\n",
    "                                                CodeGenerationModel,\\\n",
    "                                                    CodeChatModel"
   ]
  },
  {
   "cell_type": "code",
   "execution_count": 12,
   "metadata": {},
   "outputs": [
    {
     "ename": "GoogleAuthError",
     "evalue": "Unable to find your project. Please provide a project ID by:\n- Passing a constructor argument\n- Using aiplatform.init()\n- Setting project using 'gcloud config set project my-project'\n- Setting a GCP environment variable",
     "output_type": "error",
     "traceback": [
      "\u001b[1;31m---------------------------------------------------------------------------\u001b[0m",
      "\u001b[1;31mDefaultCredentialsError\u001b[0m                   Traceback (most recent call last)",
      "File \u001b[1;32m~\\AppData\\Local\\Packages\\PythonSoftwareFoundation.Python.3.11_qbz5n2kfra8p0\\LocalCache\\local-packages\\Python311\\site-packages\\google\\cloud\\aiplatform\\initializer.py:263\u001b[0m, in \u001b[0;36m_Config.project\u001b[1;34m(self)\u001b[0m\n\u001b[0;32m    262\u001b[0m \u001b[39mtry\u001b[39;00m:\n\u001b[1;32m--> 263\u001b[0m     \u001b[39mself\u001b[39;49m\u001b[39m.\u001b[39;49m_set_project_as_env_var_or_google_auth_default()\n\u001b[0;32m    264\u001b[0m     project_id \u001b[39m=\u001b[39m \u001b[39mself\u001b[39m\u001b[39m.\u001b[39m_project\n",
      "File \u001b[1;32m~\\AppData\\Local\\Packages\\PythonSoftwareFoundation.Python.3.11_qbz5n2kfra8p0\\LocalCache\\local-packages\\Python311\\site-packages\\google\\cloud\\aiplatform\\initializer.py:90\u001b[0m, in \u001b[0;36m_Config._set_project_as_env_var_or_google_auth_default\u001b[1;34m(self)\u001b[0m\n\u001b[0;32m     89\u001b[0m \u001b[39melse\u001b[39;00m:\n\u001b[1;32m---> 90\u001b[0m     credentials, project \u001b[39m=\u001b[39m google\u001b[39m.\u001b[39;49mauth\u001b[39m.\u001b[39;49mdefault()\n\u001b[0;32m     91\u001b[0m     \u001b[39mself\u001b[39m\u001b[39m.\u001b[39m_credentials \u001b[39m=\u001b[39m \u001b[39mself\u001b[39m\u001b[39m.\u001b[39m_credentials \u001b[39mor\u001b[39;00m credentials\n",
      "File \u001b[1;32m~\\AppData\\Local\\Packages\\PythonSoftwareFoundation.Python.3.11_qbz5n2kfra8p0\\LocalCache\\local-packages\\Python311\\site-packages\\google\\auth\\_default.py:691\u001b[0m, in \u001b[0;36mdefault\u001b[1;34m(scopes, request, quota_project_id, default_scopes)\u001b[0m\n\u001b[0;32m    689\u001b[0m         \u001b[39mreturn\u001b[39;00m credentials, effective_project_id\n\u001b[1;32m--> 691\u001b[0m \u001b[39mraise\u001b[39;00m exceptions\u001b[39m.\u001b[39mDefaultCredentialsError(_CLOUD_SDK_MISSING_CREDENTIALS)\n",
      "\u001b[1;31mDefaultCredentialsError\u001b[0m: Your default credentials were not found. To set up Application Default Credentials, see https://cloud.google.com/docs/authentication/external/set-up-adc for more information.",
      "\nThe above exception was the direct cause of the following exception:\n",
      "\u001b[1;31mGoogleAuthError\u001b[0m                           Traceback (most recent call last)",
      "Cell \u001b[1;32mIn[12], line 1\u001b[0m\n\u001b[1;32m----> 1\u001b[0m generation_model \u001b[39m=\u001b[39m TextGenerationModel\u001b[39m.\u001b[39;49mfrom_pretrained(\u001b[39m'\u001b[39;49m\u001b[39mtext-bison@001\u001b[39;49m\u001b[39m'\u001b[39;49m)\n\u001b[0;32m      3\u001b[0m prompt \u001b[39m=\u001b[39m \u001b[39m'\u001b[39m\u001b[39mThe meaning of life is\u001b[39m\u001b[39m'\u001b[39m\n\u001b[0;32m      4\u001b[0m response \u001b[39m=\u001b[39m generation_model\u001b[39m.\u001b[39mpredict(prompt\u001b[39m=\u001b[39mprompt)\n",
      "File \u001b[1;32m~\\AppData\\Local\\Packages\\PythonSoftwareFoundation.Python.3.11_qbz5n2kfra8p0\\LocalCache\\local-packages\\Python311\\site-packages\\vertexai\\_model_garden\\_model_garden_models.py:316\u001b[0m, in \u001b[0;36m_ModelGardenModel.from_pretrained\u001b[1;34m(cls, model_name)\u001b[0m\n\u001b[0;32m    301\u001b[0m \u001b[39m@classmethod\u001b[39m\n\u001b[0;32m    302\u001b[0m \u001b[39mdef\u001b[39;00m \u001b[39mfrom_pretrained\u001b[39m(\u001b[39mcls\u001b[39m: Type[T], model_name: \u001b[39mstr\u001b[39m) \u001b[39m-\u001b[39m\u001b[39m>\u001b[39m T:\n\u001b[0;32m    303\u001b[0m \u001b[39m    \u001b[39m\u001b[39m\"\"\"Loads a _ModelGardenModel.\u001b[39;00m\n\u001b[0;32m    304\u001b[0m \n\u001b[0;32m    305\u001b[0m \u001b[39m    Args:\u001b[39;00m\n\u001b[1;32m   (...)\u001b[0m\n\u001b[0;32m    313\u001b[0m \u001b[39m        ValueError: If model does not support this class.\u001b[39;00m\n\u001b[0;32m    314\u001b[0m \u001b[39m    \"\"\"\u001b[39;00m\n\u001b[1;32m--> 316\u001b[0m     \u001b[39mreturn\u001b[39;00m _from_pretrained(interface_class\u001b[39m=\u001b[39;49m\u001b[39mcls\u001b[39;49m, model_name\u001b[39m=\u001b[39;49mmodel_name)\n",
      "File \u001b[1;32m~\\AppData\\Local\\Packages\\PythonSoftwareFoundation.Python.3.11_qbz5n2kfra8p0\\LocalCache\\local-packages\\Python311\\site-packages\\vertexai\\_model_garden\\_model_garden_models.py:218\u001b[0m, in \u001b[0;36m_from_pretrained\u001b[1;34m(interface_class, model_name, publisher_model, tuned_vertex_model)\u001b[0m\n\u001b[0;32m    213\u001b[0m     \u001b[39mif\u001b[39;00m \u001b[39mnot\u001b[39;00m interface_class\u001b[39m.\u001b[39m_INSTANCE_SCHEMA_URI:\n\u001b[0;32m    214\u001b[0m         \u001b[39mraise\u001b[39;00m \u001b[39mValueError\u001b[39;00m(\n\u001b[0;32m    215\u001b[0m             \u001b[39mf\u001b[39m\u001b[39m\"\u001b[39m\u001b[39mClass \u001b[39m\u001b[39m{\u001b[39;00minterface_class\u001b[39m}\u001b[39;00m\u001b[39m is not a correct model interface class since it does not have an instance schema URI.\u001b[39m\u001b[39m\"\u001b[39m\n\u001b[0;32m    216\u001b[0m         )\n\u001b[1;32m--> 218\u001b[0m     model_info \u001b[39m=\u001b[39m _get_model_info(\n\u001b[0;32m    219\u001b[0m         model_id\u001b[39m=\u001b[39;49mmodel_name,\n\u001b[0;32m    220\u001b[0m         schema_to_class_map\u001b[39m=\u001b[39;49m{interface_class\u001b[39m.\u001b[39;49m_INSTANCE_SCHEMA_URI: interface_class},\n\u001b[0;32m    221\u001b[0m     )\n\u001b[0;32m    223\u001b[0m \u001b[39melse\u001b[39;00m:\n\u001b[0;32m    224\u001b[0m     schema_uri \u001b[39m=\u001b[39m publisher_model\u001b[39m.\u001b[39m_gca_resource\u001b[39m.\u001b[39mpredict_schemata\u001b[39m.\u001b[39minstance_schema_uri\n",
      "File \u001b[1;32m~\\AppData\\Local\\Packages\\PythonSoftwareFoundation.Python.3.11_qbz5n2kfra8p0\\LocalCache\\local-packages\\Python311\\site-packages\\vertexai\\_model_garden\\_model_garden_models.py:134\u001b[0m, in \u001b[0;36m_get_model_info\u001b[1;34m(model_id, schema_to_class_map, interface_class, publisher_model_res, tuned_vertex_model)\u001b[0m\n\u001b[0;32m    130\u001b[0m     model_id \u001b[39m=\u001b[39m \u001b[39m\"\u001b[39m\u001b[39mpublishers/google/models/\u001b[39m\u001b[39m\"\u001b[39m \u001b[39m+\u001b[39m model_id\n\u001b[0;32m    132\u001b[0m \u001b[39mif\u001b[39;00m \u001b[39mnot\u001b[39;00m publisher_model_res:\n\u001b[0;32m    133\u001b[0m     publisher_model_res \u001b[39m=\u001b[39m (\n\u001b[1;32m--> 134\u001b[0m         _publisher_models\u001b[39m.\u001b[39;49m_PublisherModel(  \u001b[39m# pylint: disable=protected-access\u001b[39;49;00m\n\u001b[0;32m    135\u001b[0m             resource_name\u001b[39m=\u001b[39;49mmodel_id\n\u001b[0;32m    136\u001b[0m         )\u001b[39m.\u001b[39m_gca_resource\n\u001b[0;32m    137\u001b[0m     )\n\u001b[0;32m    139\u001b[0m \u001b[39mif\u001b[39;00m \u001b[39mnot\u001b[39;00m publisher_model_res\u001b[39m.\u001b[39mname\u001b[39m.\u001b[39mstartswith(\u001b[39m\"\u001b[39m\u001b[39mpublishers/google/models/\u001b[39m\u001b[39m\"\u001b[39m):\n\u001b[0;32m    140\u001b[0m     \u001b[39mraise\u001b[39;00m \u001b[39mValueError\u001b[39;00m(\n\u001b[0;32m    141\u001b[0m         \u001b[39mf\u001b[39m\u001b[39m\"\u001b[39m\u001b[39mOnly Google models are currently supported. \u001b[39m\u001b[39m{\u001b[39;00mpublisher_model_res\u001b[39m.\u001b[39mname\u001b[39m}\u001b[39;00m\u001b[39m\"\u001b[39m\n\u001b[0;32m    142\u001b[0m     )\n",
      "File \u001b[1;32m~\\AppData\\Local\\Packages\\PythonSoftwareFoundation.Python.3.11_qbz5n2kfra8p0\\LocalCache\\local-packages\\Python311\\site-packages\\google\\cloud\\aiplatform\\_publisher_models.py:63\u001b[0m, in \u001b[0;36m_PublisherModel.__init__\u001b[1;34m(self, resource_name, project, location, credentials)\u001b[0m\n\u001b[0;32m     37\u001b[0m \u001b[39mdef\u001b[39;00m \u001b[39m__init__\u001b[39m(\n\u001b[0;32m     38\u001b[0m     \u001b[39mself\u001b[39m,\n\u001b[0;32m     39\u001b[0m     resource_name: \u001b[39mstr\u001b[39m,\n\u001b[1;32m   (...)\u001b[0m\n\u001b[0;32m     42\u001b[0m     credentials: Optional[auth_credentials\u001b[39m.\u001b[39mCredentials] \u001b[39m=\u001b[39m \u001b[39mNone\u001b[39;00m,\n\u001b[0;32m     43\u001b[0m ):\n\u001b[0;32m     44\u001b[0m \u001b[39m    \u001b[39m\u001b[39m\"\"\"Retrieves an existing PublisherModel resource given a resource name or model garden id.\u001b[39;00m\n\u001b[0;32m     45\u001b[0m \n\u001b[0;32m     46\u001b[0m \u001b[39m    Args:\u001b[39;00m\n\u001b[1;32m   (...)\u001b[0m\n\u001b[0;32m     60\u001b[0m \u001b[39m            Overrides credentials set in aiplatform.init.\u001b[39;00m\n\u001b[0;32m     61\u001b[0m \u001b[39m    \"\"\"\u001b[39;00m\n\u001b[1;32m---> 63\u001b[0m     \u001b[39msuper\u001b[39;49m()\u001b[39m.\u001b[39;49m\u001b[39m__init__\u001b[39;49m(project\u001b[39m=\u001b[39;49mproject, location\u001b[39m=\u001b[39;49mlocation, credentials\u001b[39m=\u001b[39;49mcredentials)\n\u001b[0;32m     65\u001b[0m     \u001b[39mif\u001b[39;00m \u001b[39mself\u001b[39m\u001b[39m.\u001b[39m_parse_resource_name(resource_name):\n\u001b[0;32m     66\u001b[0m         full_resource_name \u001b[39m=\u001b[39m resource_name\n",
      "File \u001b[1;32m~\\AppData\\Local\\Packages\\PythonSoftwareFoundation.Python.3.11_qbz5n2kfra8p0\\LocalCache\\local-packages\\Python311\\site-packages\\google\\cloud\\aiplatform\\base.py:510\u001b[0m, in \u001b[0;36mVertexAiResourceNoun.__init__\u001b[1;34m(self, project, location, credentials, resource_name)\u001b[0m\n\u001b[0;32m    505\u001b[0m \u001b[39mif\u001b[39;00m resource_name:\n\u001b[0;32m    506\u001b[0m     project, location \u001b[39m=\u001b[39m \u001b[39mself\u001b[39m\u001b[39m.\u001b[39m_get_and_validate_project_location(\n\u001b[0;32m    507\u001b[0m         resource_name\u001b[39m=\u001b[39mresource_name, project\u001b[39m=\u001b[39mproject, location\u001b[39m=\u001b[39mlocation\n\u001b[0;32m    508\u001b[0m     )\n\u001b[1;32m--> 510\u001b[0m \u001b[39mself\u001b[39m\u001b[39m.\u001b[39mproject \u001b[39m=\u001b[39m project \u001b[39mor\u001b[39;00m initializer\u001b[39m.\u001b[39;49mglobal_config\u001b[39m.\u001b[39;49mproject\n\u001b[0;32m    511\u001b[0m \u001b[39mself\u001b[39m\u001b[39m.\u001b[39mlocation \u001b[39m=\u001b[39m location \u001b[39mor\u001b[39;00m initializer\u001b[39m.\u001b[39mglobal_config\u001b[39m.\u001b[39mlocation\n\u001b[0;32m    512\u001b[0m \u001b[39mself\u001b[39m\u001b[39m.\u001b[39mcredentials \u001b[39m=\u001b[39m credentials \u001b[39mor\u001b[39;00m initializer\u001b[39m.\u001b[39mglobal_config\u001b[39m.\u001b[39mcredentials\n",
      "File \u001b[1;32m~\\AppData\\Local\\Packages\\PythonSoftwareFoundation.Python.3.11_qbz5n2kfra8p0\\LocalCache\\local-packages\\Python311\\site-packages\\google\\cloud\\aiplatform\\initializer.py:266\u001b[0m, in \u001b[0;36m_Config.project\u001b[1;34m(self)\u001b[0m\n\u001b[0;32m    264\u001b[0m     project_id \u001b[39m=\u001b[39m \u001b[39mself\u001b[39m\u001b[39m.\u001b[39m_project\n\u001b[0;32m    265\u001b[0m \u001b[39mexcept\u001b[39;00m GoogleAuthError \u001b[39mas\u001b[39;00m exc:\n\u001b[1;32m--> 266\u001b[0m     \u001b[39mraise\u001b[39;00m GoogleAuthError(project_not_found_exception_str) \u001b[39mfrom\u001b[39;00m \u001b[39mexc\u001b[39;00m\n\u001b[0;32m    268\u001b[0m \u001b[39mif\u001b[39;00m \u001b[39mnot\u001b[39;00m project_id:\n\u001b[0;32m    269\u001b[0m     \u001b[39mraise\u001b[39;00m \u001b[39mValueError\u001b[39;00m(project_not_found_exception_str)\n",
      "\u001b[1;31mGoogleAuthError\u001b[0m: Unable to find your project. Please provide a project ID by:\n- Passing a constructor argument\n- Using aiplatform.init()\n- Setting project using 'gcloud config set project my-project'\n- Setting a GCP environment variable"
     ]
    }
   ],
   "source": [
    "generation_model = TextGenerationModel.from_pretrained('text-bison@001')\n",
    "\n",
    "prompt = 'The meaning of life is'\n",
    "response = generation_model.predict(prompt=prompt)\n",
    "print(response.text)"
   ]
  }
 ],
 "metadata": {
  "kernelspec": {
   "display_name": "Python 3",
   "language": "python",
   "name": "python3"
  },
  "language_info": {
   "codemirror_mode": {
    "name": "ipython",
    "version": 3
   },
   "file_extension": ".py",
   "mimetype": "text/x-python",
   "name": "python",
   "nbconvert_exporter": "python",
   "pygments_lexer": "ipython3",
   "version": "3.11.6"
  },
  "orig_nbformat": 4
 },
 "nbformat": 4,
 "nbformat_minor": 2
}
